{
 "cells": [
  {
   "cell_type": "code",
   "execution_count": 23,
   "metadata": {},
   "outputs": [],
   "source": [
    "import math\n",
    "import pymap3d as pm\n",
    "\n",
    "X,Y,Z = 2225072.739257,-5440052.972777,-2481686.557645 # station coordinates\n",
    "x,y,z = 0.001178,-0.001097,7.496758 # antenna coordinates"
   ]
  },
  {
   "cell_type": "markdown",
   "metadata": {},
   "source": [
    "# From ENU to ECEF"
   ]
  },
  {
   "cell_type": "code",
   "execution_count": 24,
   "metadata": {},
   "outputs": [
    {
     "name": "stdout",
     "output_type": "stream",
     "text": [
      "Pad Coordinates:     2225072.739257,    -5440052.972777,    -2481686.557645\n",
      "Antenna Coordinates: 2225075.352082682, -5440059.357730702, -2481689.4913953794\n"
     ]
    }
   ],
   "source": [
    "lat,long,h = pm.ecef2geodetic(X, Y, Z, ell=None, deg=True)\n",
    "Xf,Yf,Zf = pm.enu2ecef(x, y, z, lat, long, h, ell=None, deg=True)\n",
    "\n",
    "print(\"Pad Coordinates:     2225072.739257,    -5440052.972777,    -2481686.557645\")\n",
    "print(\"Antenna Coordinates: \"+str(Xf)+\", \"+str(Yf)+\", \"+str(Zf))"
   ]
  }
 ],
 "metadata": {
  "kernelspec": {
   "display_name": "Python 3",
   "language": "python",
   "name": "python3"
  },
  "language_info": {
   "codemirror_mode": {
    "name": "ipython",
    "version": 3
   },
   "file_extension": ".py",
   "mimetype": "text/x-python",
   "name": "python",
   "nbconvert_exporter": "python",
   "pygments_lexer": "ipython3",
   "version": "3.8.5"
  }
 },
 "nbformat": 4,
 "nbformat_minor": 4
}
