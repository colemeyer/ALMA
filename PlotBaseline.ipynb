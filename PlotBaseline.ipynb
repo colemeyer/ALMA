{
 "cells": [
  {
   "cell_type": "markdown",
   "metadata": {},
   "source": [
    "### functionality"
   ]
  },
  {
   "cell_type": "raw",
   "metadata": {},
   "source": [
    "Purpose: plots antenna separation from reference antenna vs. position offset magnitude with phase overlayed using size and hue.\n",
    "\n",
    "Approach: extracts data from AntData.csv and plots using matplotlib and seaborn.\n",
    "\n",
    "Note: script only plots xPhaseAvg since yPhaseAvg is usually 0."
   ]
  },
  {
   "cell_type": "markdown",
   "metadata": {},
   "source": [
    "### required directory structure"
   ]
  },
  {
   "cell_type": "raw",
   "metadata": {},
   "source": [
    "-> ALMA Internship\n",
    "    -> Observational Data\n",
    "        -> all M_DD_YYYY folders\n",
    "            -> asdm folder\n",
    "                -> all uid___* folders\n",
    "                    -> at least AntData.csv\n",
    "    -> PlotBaseline.ipynb"
   ]
  },
  {
   "cell_type": "markdown",
   "metadata": {},
   "source": [
    "### imports and inputs"
   ]
  },
  {
   "cell_type": "code",
   "execution_count": 34,
   "metadata": {},
   "outputs": [],
   "source": [
    "import pandas as pd\n",
    "import seaborn as sb\n",
    "import os\n",
    "import matplotlib.pyplot as plt\n",
    "from packages import plotstyle as ps\n",
    "from packages import miscellaneous as mc\n",
    "sb.set_theme(style=\"white\",font='serif')\n",
    "\n",
    "date = '8_3_2021 (evening)' # Since Archive is reserved for unprocessed solutions, we need to tap into an \"Observational \n",
    "                   # Data\" directory for our processed solution.\n",
    "    \n",
    "ymax = 0.003 # Manual override to help manage outliers. If not needed, set to 0.\n",
    "    \n",
    "directory = '/Users/colemeyer/Documents/ALMA Internship/Observational Data/' # Directory of \"Observational Data\", assuming specified structure"
   ]
  },
  {
   "cell_type": "markdown",
   "metadata": {},
   "source": [
    "### loading and cleaning data"
   ]
  },
  {
   "cell_type": "code",
   "execution_count": 35,
   "metadata": {},
   "outputs": [],
   "source": [
    "directory = directory+'/'+date\n",
    "\n",
    "# Create new \"errorplots\" directory within \"Observational Data\" subdirectory\n",
    "if not os.path.isdir(directory+'/baselineplots/'):\n",
    "    os.mkdir(directory+'/baselineplots')\n",
    "    \n",
    "numObs = mc.numObs(directory)"
   ]
  },
  {
   "cell_type": "markdown",
   "metadata": {},
   "source": [
    "### extrema"
   ]
  },
  {
   "cell_type": "code",
   "execution_count": 36,
   "metadata": {},
   "outputs": [],
   "source": [
    "first = True\n",
    "for file in os.listdir(directory+'/asdm'):\n",
    "    if os.path.isdir(directory+'/asdm/'+file):\n",
    "        antArr = pd.read_csv(directory+'/asdm/'+file+'/AntData.csv')[['xPhaseAvg','poserrX','poserrY','poserrZ','geoposX','geoposY','geoposZ']]\n",
    "        \n",
    "        # Calculate antenna separation distances\n",
    "        distances = [0]\n",
    "        for i in range(1,antArr.shape[0]):\n",
    "            distances.append(mc.distance(antArr.iloc[0,4:7],antArr.iloc[i,4:7]))\n",
    "        \n",
    "        antArr['distances'] = distances\n",
    "        antArr = antArr.iloc[1:]\n",
    "        \n",
    "        # Combine all data end-to-end\n",
    "        if not first: \n",
    "            oldAntArr = oldAntArr.append(antArr)\n",
    "        else: \n",
    "            oldAntArr = antArr\n",
    "            first = False\n",
    "            \n",
    "# Take abs. value of position offset to display position offset magnitude\n",
    "oldAntArr.loc[:,'poserrX':'poserrZ'] = abs(oldAntArr.loc[:,'poserrX':'poserrZ'])\n",
    "            \n",
    "# Set up plot limits\n",
    "xMax = max(oldAntArr.loc[:,'poserrX'])\n",
    "yMax = max(oldAntArr.loc[:,'poserrY'])\n",
    "zMax = max(oldAntArr.loc[:,'poserrZ'])\n",
    "\n",
    "xmin, xmax = 0, max(oldAntArr.loc[:,'distances'])*1.1\n",
    "ymin = 0 \n",
    "if ymax == 0: ymax = max(xMax,yMax,zMax)*1.1"
   ]
  },
  {
   "cell_type": "markdown",
   "metadata": {},
   "source": [
    "# plot"
   ]
  },
  {
   "cell_type": "code",
   "execution_count": 37,
   "metadata": {},
   "outputs": [],
   "source": [
    "plot = 0\n",
    "for uid in os.listdir(directory+'/asdm'):\n",
    "    if os.path.isdir(directory+'/asdm/'+uid):\n",
    "        antArr = pd.read_csv(directory+'/asdm/'+uid+'/AntData.csv')[['xPhaseAvg','poserrX','poserrY','poserrZ','geoposX','geoposY','geoposZ']]\n",
    "        \n",
    "        # Calculate antenna separation distances\n",
    "        distances = [0]\n",
    "        for i in range(1,antArr.shape[0]):\n",
    "            distances.append(mc.distance(antArr.iloc[0,4:7],antArr.iloc[i,4:7]))\n",
    "        \n",
    "        antArr['distances'] = distances\n",
    "        antArr = antArr.iloc[1:]\n",
    "        \n",
    "        # Take abs. value of position offset to display position offset magnitude\n",
    "        antArr.loc[:,'xPhaseAvg':'poserrZ'] = abs(antArr.loc[:,'xPhaseAvg':'poserrZ'])\n",
    "        \n",
    "        fig, axes = plt.subplots(1,3,figsize=(15,5),sharey=True)\n",
    "        \n",
    "        # Call sb.scatterplot for all three subplots\n",
    "        sb.scatterplot(ax=axes[0], x='distances', y='poserrX', data=antArr, hue='xPhaseAvg', size='xPhaseAvg')\n",
    "        sb.scatterplot(ax=axes[1], x='distances', y='poserrY', data=antArr, hue='xPhaseAvg', size='xPhaseAvg')\n",
    "        sb.scatterplot(ax=axes[2], x='distances', y='poserrZ', data=antArr, hue='xPhaseAvg', size='xPhaseAvg')\n",
    "        \n",
    "        # Apply styling\n",
    "        ps.plotNonDescript(axes[0],title='Ant.Sep. vs. Position Offset (x), *'+uid[11:],xmax=xmax,xmin=xmin,ymax=ymax,\n",
    "                          ymin=ymin,titlesize=11,xlabel='Ant.Sep. Distance (m)',ylabel='Position Offset Magnitude (m)',\n",
    "                           xticks=[],yticks=True)\n",
    "        ps.plotNonDescript(axes[1],title='Ant.Sep. vs. Position Offset (y), *'+uid[11:],xmax=xmax,xmin=xmin,ymax=ymax,\n",
    "                          ymin=ymin,titlesize=11,xlabel='Ant.Sep. Distance (m)', xticks=[],yticks=True)\n",
    "        ps.plotNonDescript(axes[2],title='Ant.Sep. vs. Position Offset (z), *'+uid[11:],xmax=xmax,xmin=xmin,ymax=ymax,\n",
    "                          ymin=ymin,titlesize=11,xlabel='Ant.Sep. Distance (m)', xticks=[],yticks=True)\n",
    "        \n",
    "        for i in range(3): axes[i].legend(title='Avg. Phase', fontsize=11, title_fontsize=11)\n",
    "        \n",
    "        plt.tight_layout()\n",
    "        \n",
    "        plot += 1\n",
    "        \n",
    "        #plt.show()\n",
    "        plt.savefig(directory+'/baselineplots/baselineplots'+str(plot)+'.png', bbox_inches='tight')\n",
    "        plt.close()"
   ]
  },
  {
   "cell_type": "code",
   "execution_count": null,
   "metadata": {},
   "outputs": [],
   "source": []
  }
 ],
 "metadata": {
  "kernelspec": {
   "display_name": "Python 3",
   "language": "python",
   "name": "python3"
  },
  "language_info": {
   "codemirror_mode": {
    "name": "ipython",
    "version": 3
   },
   "file_extension": ".py",
   "mimetype": "text/x-python",
   "name": "python",
   "nbconvert_exporter": "python",
   "pygments_lexer": "ipython3",
   "version": "3.8.5"
  }
 },
 "nbformat": 4,
 "nbformat_minor": 4
}
