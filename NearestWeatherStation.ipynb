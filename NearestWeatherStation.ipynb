{
 "cells": [
  {
   "cell_type": "markdown",
   "metadata": {},
   "source": [
    "# Nearest Weather Station"
   ]
  },
  {
   "cell_type": "code",
   "execution_count": 28,
   "metadata": {},
   "outputs": [],
   "source": [
    "import numpy as np\n",
    "import pandas as pd\n",
    "from statistics import mean\n",
    "import math\n",
    "\n",
    "ant1 = \"PM01\"\n",
    "ant2 = \"DV07\"\n",
    "\n",
    "antArr = pd.DataFrame([[2224943.808754,-5440201.5262,-2481486.752257],[2225075.807979,-5440179.672387,-2481412.224847],[2224995.224195,-5440073.176024,-2481713.361151],\n",
    "                      [2224233.562158,-5439963.33682,-2482603.337877],[2226160.421818,-5439676.322733,-2481419.064179],[2225130.368168,-5440025.149959,-2481695.420672]],\n",
    "                      columns=['geoX','geoY','geoZ'],index=['DA59','DV11','DA49','DV12','PM01','DV07'])\n",
    "weaArr = pd.DataFrame([[2226292.373,-5440071.187,-2480490.57],[2223475.222,-5440620.327,-2481822.703],[2226146.018,-5439167.973,-2482751.669],\n",
    "                      [2218047.888,-5442740.475,-2480988.859],[2229937.944,-5435387.75,-2486806.917],[2229279.046,-5440478.349,-2476637.931],\n",
    "                      [2225008.773,-5440202.705,-2481447.213],[2202176.215,-5445210.627,-2485352.924]],\n",
    "                      columns=['geoX','geoY','geoZ'],index=['Meteo129','Meteo130','Meteo131','Meteo201','Meteo309','Meteo410','MeteoCentral','MeteoItinerant'])"
   ]
  },
  {
   "cell_type": "code",
   "execution_count": 29,
   "metadata": {
    "scrolled": true
   },
   "outputs": [
    {
     "name": "stdout",
     "output_type": "stream",
     "text": [
      "MeteoCentral\n"
     ]
    }
   ],
   "source": [
    "def distance(pt1,pt2): #antArr then weaArr\n",
    "    return math.sqrt((antArr.loc[pt1,antArr.columns[0]]-weaArr.loc[pt2,weaArr.columns[0]])**2+(antArr.loc[pt1,antArr.columns[1]]-weaArr.loc[pt2,weaArr.columns[1]])**2+(antArr.loc[pt1,antArr.columns[2]]-weaArr.loc[pt2,weaArr.columns[2]])**2)\n",
    "\n",
    "bestStat1 = weaArr.index[0]\n",
    "bestStat2 = weaArr.index[0]\n",
    "bestDist1 = distance(ant1,bestStat1)\n",
    "bestDist2 = distance(ant2,bestStat1)\n",
    "\n",
    "for i in range(weaArr.shape[0]):\n",
    "    if distance(ant1,weaArr.index[i]) < bestDist1:\n",
    "        bestStat1 = weaArr.index[i]\n",
    "        bestDist1 = distance(ant1,weaArr.index[i])\n",
    "    if distance(ant2,weaArr.index[i]) < bestDist2:\n",
    "        bestStat2 = weaArr.index[i]\n",
    "        bestDist2 = distance(ant2,weaArr.index[i])\n",
    "        \n",
    "if bestStat1 != bestStat2:\n",
    "    if mean([distance(ant1,bestStat1),distance(ant2,bestStat1)]) > mean([distance(ant1,bestStat2),distance(ant2,bestStat2)]):\n",
    "        station = bestStat2\n",
    "    else:\n",
    "        station = bestStat1\n",
    "else:\n",
    "    station = bestStat1\n",
    "    \n",
    "print(station)"
   ]
  },
  {
   "cell_type": "code",
   "execution_count": null,
   "metadata": {},
   "outputs": [],
   "source": []
  }
 ],
 "metadata": {
  "kernelspec": {
   "display_name": "Python 3",
   "language": "python",
   "name": "python3"
  },
  "language_info": {
   "codemirror_mode": {
    "name": "ipython",
    "version": 3
   },
   "file_extension": ".py",
   "mimetype": "text/x-python",
   "name": "python",
   "nbconvert_exporter": "python",
   "pygments_lexer": "ipython3",
   "version": "3.8.5"
  }
 },
 "nbformat": 4,
 "nbformat_minor": 4
}
