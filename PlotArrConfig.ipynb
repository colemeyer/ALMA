{
 "cells": [
  {
   "cell_type": "markdown",
   "metadata": {
    "scrolled": true
   },
   "source": [
    "# Some Header Here"
   ]
  },
  {
   "cell_type": "code",
   "execution_count": 5,
   "metadata": {
    "scrolled": true
   },
   "outputs": [],
   "source": [
    "import numpy as np\n",
    "import matplotlib.pyplot as plt\n",
    "import matplotlib.patheffects as path_effects\n",
    "import matplotlib.colors as colors\n",
    "#from mpl_toolkits.axes_grid.anchored_artists import AnchoredText\n",
    "from matplotlib.ticker import MultipleLocator, FixedLocator,FormatStrFormatter\n",
    "\n",
    "uid = 'uid___A002_Xee1eb6_Xdc89'\n",
    "\n",
    "directory = '/Users/colemeyer/Documents/ALMA Internship/Archive/Processed/'+uid+'/'\n",
    "\n",
    "fullAntFile = np.genfromtxt(directory+'AntPos.csv',delimiter=',',dtype='U25',skip_header=1)\n",
    "partialAntFile = np.array((fullAntFile[:,3:]),dtype='U25')\n",
    "partialAntFile[0,0:12] = 0\n",
    "partialAntFile[0,15] = 0\n",
    "partialAntFile = np.array((partialAntFile),dtype='float')\n",
    "\n",
    "weather = np.array([[2226292.373,2223475.222,2226146.018,2218047.888,2229937.944,2229279.046,2225008.773,2202176.215],[-5440071.187,-5440620.327,-5439167.973,-5442740.475,-5435387.75,-5440478.349,-5440202.705,-5445210.627]])\n",
    "\n",
    "keyAnts = np.array([[2224943.808,2225075.808,2223799.933,2224233.563,2226160.423,2226183.567],[-5440201.526,-5440179.672,-5440242.374,-5439963.336,-5439676.326,-5439420.136]])\n",
    "\n",
    "xMin = np.min(partialAntFile[:,12])\n",
    "xMax = np.amax(partialAntFile[:,12])\n",
    "yMin = np.min(partialAntFile[:,13])\n",
    "yMax = np.amax(partialAntFile[:,13])\n",
    "\n",
    "xMaxLim = xMax+(0.1*(xMax-xMin))\n",
    "xMinLim = xMin-(0.1*(xMax-xMin))\n",
    "yMaxLim = yMax+(0.1*(yMax-yMin))\n",
    "yMinLim = yMin-(0.1*(yMax-yMin))\n",
    "\n",
    "xValues = partialAntFile[:,12]\n",
    "yValues = partialAntFile[:,13]"
   ]
  },
  {
   "cell_type": "code",
   "execution_count": 6,
   "metadata": {},
   "outputs": [
    {
     "data": {
      "image/png": "[encoded data removed]",
      "text/plain": [
       "<Figure size 432x432 with 1 Axes>"
      ]
     },
     "metadata": {
      "needs_background": "light"
     },
     "output_type": "display_data"
    }
   ],
   "source": [
    "#first plot parameters\n",
    "color1='b'\n",
    "linestyle1='-'\n",
    "linewidth1=2\n",
    "title='ARR. CONFIG. (*'+uid[11:]+')'\n",
    "xlabel='INDEPENDENT'\n",
    "ylabel='DEPENDENT'\n",
    "plotonelabel='PLOT LABEL'\n",
    "\n",
    "#graph parameters\n",
    "width,height = 6,6\n",
    "xMajors,xMinors = 5,5\n",
    "yMajors,yMinors = 5,5\n",
    "\n",
    "#first plot\n",
    "fig, ax = plt.subplots(figsize=(width,height))\n",
    "ax.scatter(xValues,yValues,color=color1,linestyle=linestyle1,linewidth=linewidth1)\n",
    "ax.scatter(weather[0,:],weather[1,:],color='g',linestyle=linestyle1,linewidth=linewidth1)\n",
    "ax.scatter(keyAnts[0,:],keyAnts[1,:],color='r',linestyle=linestyle1,linewidth=linewidth1)\n",
    "\n",
    "#grid itself\n",
    "plt.rc(\"font\", size=16,family='serif')\n",
    "\n",
    "ax.set_xlim(xMinLim,xMaxLim)\n",
    "ax.set_ylim(yMinLim,yMaxLim)\n",
    "x_minor_ticks = MultipleLocator(((xMaxLim - xMinLim) / xMajors) / xMinors)\n",
    "y_minor_ticks = MultipleLocator(((yMaxLim - yMinLim) / yMajors) / yMinors)\n",
    "ax.set_xticks([xMin,xMax])\n",
    "ax.set_yticks([yMin,yMax])\n",
    "ax.xaxis.set_minor_locator(x_minor_ticks)\n",
    "ax.yaxis.set_minor_locator(y_minor_ticks)\n",
    "#ax.grid(False, linestyle='-.')\n",
    "#ax.tick_params(which='major',axis='both',direction='in',length=7,width=2.25,top=True,right=True,labelsize=14)\n",
    "ax.tick_params(which='minor',axis='both',direction='in',length=4,width=2.25,top=True,right=True,labelsize=14)\n",
    "#ax.set_xlabel(xlabel,fontsize=15)\n",
    "#ax.set_ylabel(ylabel,fontsize=15)\n",
    "ax.set_xticklabels(['West','East'])\n",
    "ax.set_yticklabels(['South','North'])\n",
    "ax.set_title(title)\n",
    "plt.tight_layout()\n",
    "\n",
    "#ax.legend(loc=2,fontsize=14)\n",
    "\n",
    "plt.show()\n",
    "#plt.savefig('arr_config.png', bbox_inches='tight')"
   ]
  },
  {
   "cell_type": "code",
   "execution_count": null,
   "metadata": {},
   "outputs": [],
   "source": []
  }
 ],
 "metadata": {
  "kernelspec": {
   "display_name": "Python 3",
   "language": "python",
   "name": "python3"
  },
  "language_info": {
   "codemirror_mode": {
    "name": "ipython",
    "version": 3
   },
   "file_extension": ".py",
   "mimetype": "text/x-python",
   "name": "python",
   "nbconvert_exporter": "python",
   "pygments_lexer": "ipython3",
   "version": "3.8.5"
  }
 },
 "nbformat": 4,
 "nbformat_minor": 4
}
