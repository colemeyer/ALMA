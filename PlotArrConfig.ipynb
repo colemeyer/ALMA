{
 "cells": [
  {
   "cell_type": "markdown",
   "metadata": {
    "scrolled": true
   },
   "source": [
    "### functionality"
   ]
  },
  {
   "cell_type": "raw",
   "metadata": {},
   "source": [
    "Purpose: plots X and Y pad coordinates.\n",
    "\n",
    "Approach: extracts pad coordinates from AntData.csv and plots using matplotlib and seaborn."
   ]
  },
  {
   "cell_type": "markdown",
   "metadata": {},
   "source": [
    "### required directory structure"
   ]
  },
  {
   "cell_type": "raw",
   "metadata": {},
   "source": [
    "-> ALMA Internship\n",
    "    -> Observational Data\n",
    "        -> all M_DD_YYYY folders\n",
    "            -> asdm folder\n",
    "                -> all uid___* folders\n",
    "                    -> at least AntData.csv and WeaData.csv\n",
    "    -> PlotArrConfig.ipynb"
   ]
  },
  {
   "cell_type": "markdown",
   "metadata": {},
   "source": [
    "### imports and inputs"
   ]
  },
  {
   "cell_type": "code",
   "execution_count": 15,
   "metadata": {},
   "outputs": [],
   "source": [
    "import pandas as pd\n",
    "import seaborn as sb\n",
    "import matplotlib.pyplot as plt\n",
    "from matplotlib.ticker import MultipleLocator\n",
    "from matplotlib.lines import Line2D\n",
    "from packages import plotstyle as ps\n",
    "sb.set_theme(style=\"white\",font='serif')\n",
    "\n",
    "uid = 'uid___A002_Xed4607_X13266'\n",
    "\n",
    "date = '8_9_2021' # Since Archive is reserved for unprocessed solutions, we need to tap into an \"Observational \n",
    "                   # Data\" directory for our processed solution.\n",
    "    \n",
    "plotWeaStats = True # Plotting weather stations will enlarge plot limits, which is not always desirable\n",
    "\n",
    "refants = ['DA59','DV11','DA49','DV12','PM01','DV07'] # Fill with notable antnames to be plotted in different color. If not needed, leave empty\n",
    "\n",
    "directory = '/Users/colemeyer/Documents/Offset Drift/Observational Data' # Directory of \"Observational Data\", assuming specified structure"
   ]
  },
  {
   "cell_type": "markdown",
   "metadata": {},
   "source": [
    "### loading and cleaning data"
   ]
  },
  {
   "cell_type": "code",
   "execution_count": 16,
   "metadata": {},
   "outputs": [],
   "source": [
    "directory = directory+'/'+date+'/ASDMs/'+uid\n",
    "\n",
    "antArr = pd.read_csv(directory+'/AntData.csv')[['antname','geoposX','geoposY']]\n",
    "weaArr = pd.read_csv(directory+'/WeaData.csv')[['padname','geoposX','geoposY']]\n",
    "antArr.index = antArr.antname\n",
    "weaArr.index = weaArr.padname\n",
    "antArr = antArr[['geoposX','geoposY']]\n",
    "weaArr = weaArr[['geoposX','geoposY']]\n",
    "antArr.geoposY = -antArr.geoposY\n",
    "weaArr.geoposY = -weaArr.geoposY"
   ]
  },
  {
   "cell_type": "markdown",
   "metadata": {},
   "source": [
    "### extrema"
   ]
  },
  {
   "cell_type": "code",
   "execution_count": 17,
   "metadata": {},
   "outputs": [],
   "source": [
    "xmax = max(antArr.loc[:,'geoposX'])+(0.1*(max(antArr.loc[:,'geoposX'])-min(antArr.loc[:,'geoposX'])))\n",
    "xmin = min(antArr.loc[:,'geoposX'])-(0.1*(max(antArr.loc[:,'geoposX'])-min(antArr.loc[:,'geoposX'])))\n",
    "ymax = max(antArr.loc[:,'geoposY'])+(0.1*(max(antArr.loc[:,'geoposY'])-min(antArr.loc[:,'geoposY'])))\n",
    "ymin = min(antArr.loc[:,'geoposY'])-(0.1*(max(antArr.loc[:,'geoposY'])-min(antArr.loc[:,'geoposY'])))"
   ]
  },
  {
   "cell_type": "markdown",
   "metadata": {},
   "source": [
    "# plot"
   ]
  },
  {
   "cell_type": "code",
   "execution_count": 18,
   "metadata": {},
   "outputs": [
    {
     "data": {
      "image/png": "[encoded data removed]",
      "text/plain": [
       "<Figure size 360x360 with 1 Axes>"
      ]
     },
     "metadata": {},
     "output_type": "display_data"
    }
   ],
   "source": [
    "plt.subplots(figsize=(5,5))\n",
    "\n",
    "# Call sb.scatterplot for antArr data\n",
    "ax1 = sb.scatterplot(x='geoposX', y='geoposY', data=antArr, color='b')\n",
    "handles = [Line2D([0],[0],marker='o',color='b',label='ants',linewidth=0)]\n",
    "\n",
    "# Call sb.scatterplot for weaArr data if plotWeaStats != True\n",
    "if plotWeaStats: \n",
    "    ax2 = sb.scatterplot(x='geoposX', y='geoposY', data=weaArr, color='g')\n",
    "    handles.append(Line2D([0],[0],marker='o',color='g',label='weastats',linewidth=0))\n",
    "    \n",
    "# Call sb.scatterplot for refants if refants != []\n",
    "if refants != []:\n",
    "    refAntArr = pd.DataFrame(columns=['geoposX','geoposY'])\n",
    "    for ant in refants:\n",
    "        refAntArr = refAntArr.append(antArr.loc[ant])\n",
    "    ax3 = sb.scatterplot(x='geoposX', y='geoposY', data=refAntArr, color='r')\n",
    "    handles.append(Line2D([0],[0],marker='o',color='r',label='refants',linewidth=0))\n",
    "    \n",
    "# Apply styling\n",
    "ps.plotNonDescript(ax1, title='Array Configuration (*'+uid[11:]+')', xmax=xmax, xmin=xmin, \n",
    "                   ymax=ymax, ymin=ymin, handles=handles,majors=5,minors=3)\n",
    "\n",
    "#ax1.invert_yaxis()\n",
    "\n",
    "plt.tight_layout()"
   ]
  },
  {
   "cell_type": "code",
   "execution_count": null,
   "metadata": {},
   "outputs": [],
   "source": []
  }
 ],
 "metadata": {
  "kernelspec": {
   "display_name": "Python 3",
   "language": "python",
   "name": "python3"
  },
  "language_info": {
   "codemirror_mode": {
    "name": "ipython",
    "version": 3
   },
   "file_extension": ".py",
   "mimetype": "text/x-python",
   "name": "python",
   "nbconvert_exporter": "python",
   "pygments_lexer": "ipython3",
   "version": "3.8.5"
  }
 },
 "nbformat": 4,
 "nbformat_minor": 4
}
