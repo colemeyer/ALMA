{
 "cells": [
  {
   "cell_type": "markdown",
   "metadata": {},
   "source": [
    "### functionality"
   ]
  },
  {
   "cell_type": "raw",
   "metadata": {},
   "source": []
  },
  {
   "cell_type": "markdown",
   "metadata": {},
   "source": [
    "### required directory structure"
   ]
  },
  {
   "cell_type": "raw",
   "metadata": {},
   "source": [
    "-> ALMA Internship\n",
    "    -> Observational Data\n",
    "        -> all M_DD_YYYY folders\n",
    "            -> all uid___* folders\n",
    "                -> at least Antenna.xml, Station.xml, Weather.xml, ASDM.xml, *_tc_antpos.log\n",
    "    -> packages\n",
    "        -> miscellaneous\n",
    "        -> timeconvert\n",
    "    -> PlotOffset.ipynb"
   ]
  },
  {
   "cell_type": "markdown",
   "metadata": {},
   "source": [
    "### imports and inputs"
   ]
  },
  {
   "cell_type": "code",
   "execution_count": 67,
   "metadata": {},
   "outputs": [],
   "source": [
    "import numpy as np\n",
    "import pandas as pd\n",
    "import seaborn as sb\n",
    "import math\n",
    "import os\n",
    "\n",
    "from packages import miscellaneous as mc\n",
    "from packages import timeconvert as tc\n",
    "from packages import plotstyle as ps\n",
    "\n",
    "import matplotlib.pyplot as plt\n",
    "from matplotlib.lines import Line2D\n",
    "sb.set_theme(style=\"white\",font=\"serif\")\n",
    "\n",
    "date = '8_9_2021 (evening)'\n",
    "\n",
    "ymax, ymin = 2.5,-2.5\n",
    "\n",
    "timeRange = [\"18\",\"24\"] # Start and end hour in 24-hour time: [\"HH\",\"HH\"]. For title only.\n",
    "\n",
    "# Code is general to antennas, but plot arrangements are specific, so structure of lists below is fixed.\n",
    "refants = ['DA59','DV11','DA49','DV12','PM01','DV07'] # Must be three pairs [A,A,B,B,C,C], where A,A are central.\n",
    "pairLoc = ['Center','Southwest','East'] # Must be three corresponding locations [A,B,C].\n",
    "\n",
    "directory = '/Users/colemeyer/Documents/ALMA Internship/Observational Data/' # Directory of \"Observational Data\", assuming specified structure"
   ]
  },
  {
   "cell_type": "markdown",
   "metadata": {},
   "source": [
    "### general initializations"
   ]
  },
  {
   "cell_type": "code",
   "execution_count": 68,
   "metadata": {},
   "outputs": [],
   "source": [
    "weaants = ['Meteo129','Meteo130','Meteo131','Meteo201','Meteo309','Meteo410','MeteoCentral']\n",
    "\n",
    "directory = directory+'/'+date\n",
    "genDir = directory+'/asdm/'\n",
    "\n",
    "numObs = mc.numObs(genDir)\n",
    "    \n",
    "# Create new \"offsetplots\" directory within \"Observational Data\" subdirectory\n",
    "if not os.path.isdir(directory+'/phaseplots/'):\n",
    "    os.mkdir(directory+'/phaseplots/')"
   ]
  },
  {
   "cell_type": "markdown",
   "metadata": {},
   "source": [
    "# magnitude w/ mean-based normalization"
   ]
  },
  {
   "cell_type": "markdown",
   "metadata": {},
   "source": [
    "### specific initializations"
   ]
  },
  {
   "cell_type": "code",
   "execution_count": 69,
   "metadata": {},
   "outputs": [],
   "source": [
    "magPhaseProbs = np.empty((np.shape(refants)[0],numObs),dtype='U25')\n",
    "magPhase = np.empty((np.shape(refants)[0],numObs),dtype='float')\n",
    "x = range(1,numObs+1)\n",
    "xticks = range(numObs+1)\n",
    "\n",
    "########## magnitude-specific phase data\n",
    "\n",
    "# Data extraction from offsetdata directory\n",
    "for ant in range(np.shape(refants)[0]):\n",
    "    arr = pd.read_csv(directory+'/offsetdata/'+refants[ant]+'.csv')\n",
    "    arr = arr.loc[:,'xPhaseAvg']\n",
    "    for obs in range(numObs):\n",
    "        # If there's a problem in the data, prep it for the next loop\n",
    "        if np.isnan(arr.iloc[obs]):\n",
    "            L = np.where(magPhaseProbs[ant,:] == \"\")[0][0]\n",
    "            magPhaseProbs[ant,L] = obs\n",
    "            magPhase[ant,obs] = np.nan\n",
    "        # Else, transfer the data\n",
    "        else: magPhase[ant,obs] = arr.iloc[obs]\n",
    "            \n",
    "# If there's a problem in the data, take the data from the previous observation (or the next, if the previous is\n",
    "# not available) and update magPhaseProbs, which will allow us to circle the problem areas in our plot.\n",
    "for ant in range(np.shape(refants)[0]):\n",
    "    if magPhaseProbs[ant,0] != \"\":\n",
    "        for prob in range(np.where(magPhaseProbs[ant,:] == \"\")[0][0]):\n",
    "            if int(magPhaseProbs[ant,prob]) == 0: magPhase[ant,int(magPhaseProbs[ant,prob])] = magPhase[ant,int(magPhaseProbs[ant,prob])+1]\n",
    "            else: magPhase[ant,int(magPhaseProbs[ant,prob])] = magPhase[ant,int(magPhaseProbs[ant,prob])-1]\n",
    "        \n",
    "# Prepare time labels\n",
    "timeSeries = []\n",
    "temp = pd.read_csv(directory+'/offsetdata/'+refants[0]+'.csv')[['time']]\n",
    "for time in range(temp.shape[0]):\n",
    "    timeSeries.append(tc.UnixtoFormattedTime(temp.loc[time]))\n",
    "timeSeries.append(\"\")"
   ]
  },
  {
   "cell_type": "markdown",
   "metadata": {},
   "source": [
    "### mean-based normalization"
   ]
  },
  {
   "cell_type": "code",
   "execution_count": 70,
   "metadata": {
    "scrolled": true
   },
   "outputs": [],
   "source": [
    "for ant in range(np.shape(refants)[0]):\n",
    "    offset = np.average(magPhase[ant,:])\n",
    "    magPhase[ant,:] = magPhase[ant,:]-offset"
   ]
  },
  {
   "cell_type": "markdown",
   "metadata": {},
   "source": [
    "### combined plot initializations"
   ]
  },
  {
   "cell_type": "code",
   "execution_count": 71,
   "metadata": {},
   "outputs": [],
   "source": [
    "magPhaseProbsAvg = np.empty((int(np.shape(refants)[0]/2),numObs),dtype='U25')\n",
    "magPhaseAvg = np.zeros((int(np.shape(refants)[0]/2),numObs),dtype='float')\n",
    "\n",
    "for ant in range(int(np.shape(refants)[0]/2)):\n",
    "    magPhaseAvg[ant,:] = (magPhase[ant*2,:] + magPhase[ant*2+1,:]) / 2\n",
    "        \n",
    "for ant in range(np.shape(refants)[0]):\n",
    "    pair = ant // 2\n",
    "    if magPhaseProbs[ant,0] != \"\":\n",
    "        for prob in range(np.where(magPhaseProbs[ant,:] == \"\")[0][0]):\n",
    "            L = np.where(magPhaseProbsAvg[pair,:] == \"\")[0][0]\n",
    "            magPhaseProbsAvg[pair,L] = magPhaseProbs[ant,prob]\n",
    "for pair in range(int(np.shape(refants)[0]/2)):\n",
    "    if magPhaseProbsAvg[pair,0] != \"\":\n",
    "        for prob in range(0):\n",
    "            if int(magPhaseProbsAvg[pair,prob]) == 0: magPhaseAvg[pair,int(magPhaseProbsAvg[pair,prob]),:] = magPhaseAvg[pair,int(magPhaseProbsAvg[pair,prob])+1]\n",
    "            else: magPhaseAvg[pair,int(magPhaseProbsAvg[pair,prob]),:] = magPhaseAvg[pair,int(magPhaseProbsAvg[pair,prob])-1]\n",
    "\n",
    "                \n",
    "for pair in range(int(np.shape(refants)[0]/2)):\n",
    "    offset = np.average(magPhaseAvg[pair,:])\n",
    "    magPhaseAvg[pair,:] = magPhaseAvg[pair,:] - offset"
   ]
  },
  {
   "cell_type": "markdown",
   "metadata": {},
   "source": [
    "### extrema"
   ]
  },
  {
   "cell_type": "code",
   "execution_count": 72,
   "metadata": {},
   "outputs": [],
   "source": [
    "extrema = np.zeros((np.shape(refants)[0],2),dtype='float')\n",
    "for ant in range(np.shape(refants)[0]):\n",
    "    extrema[ant,0], extrema[ant,1] = np.max(magPhase[ant,:]), np.min(magPhase[ant,:])\n",
    "    \n",
    "temp = np.max([abs(np.max(extrema[:,0])), abs(np.min(extrema[:,1]))])\n",
    "ymax, ymin = ymax, ymin"
   ]
  },
  {
   "cell_type": "markdown",
   "metadata": {},
   "source": [
    "## plot "
   ]
  },
  {
   "cell_type": "code",
   "execution_count": 73,
   "metadata": {},
   "outputs": [],
   "source": [
    "fig, axes = plt.subplots(2,2,figsize=(10,10),sharey=True,sharex=True)\n",
    "\n",
    "ax = [axes[0,0],axes[0,1],axes[1,0],axes[1,1]]\n",
    "\n",
    "for i in range(3):\n",
    "    temp = pd.DataFrame(np.column_stack((x,magPhase[i*2,:])),columns=['x', 'y'])\n",
    "    sb.lineplot(ax=ax[i], x='x', y='y', data=temp, color='r')\n",
    "    temp = pd.DataFrame(np.column_stack((x,magPhase[i*2+1,:])),columns=['x', 'y'])\n",
    "    sb.lineplot(ax=ax[i], x='x', y='y', data=temp, color='b')\n",
    "    \n",
    "colors = ['r','b','g']\n",
    "for i in range(3):\n",
    "    temp = pd.DataFrame(np.column_stack((x,magPhaseAvg[i,:])),columns=['x', 'y'])\n",
    "    sb.lineplot(ax=ax[3], x='x', y='y', data=temp, color=colors[i])\n",
    "    \n",
    "for ant in range(len(refants)):\n",
    "    if magPhaseProbs[ant,0] != \"\":\n",
    "        for row in range(np.where(magPhaseProbs[ant,:] == \"\")[0][0]):\n",
    "            ec = colors[ant%2]\n",
    "            ax[ant//2].scatter(float(magPhaseProbs[ant,row])+1,float(magPhase[ant,int(magPhaseProbs[ant,row])]),s=500,c='none',edgecolor=ec,linewidth=2)\n",
    "            \n",
    "    if magPhaseProbsAvg[ant//2,0] != \"\":\n",
    "        for row in range(np.where(magPhaseProbsAvg[ant//2,:] == \"\")[0][0]):\n",
    "            ec = colors[ant//2]\n",
    "            ax[3].scatter(float(magPhaseProbsAvg[ant//2,row])+1,float(magPhaseAvg[ant//2,int(magPhaseProbsAvg[ant//2,row])]),s=500,c='none',edgecolor=ec,linewidth=2)\n",
    "\n",
    "handles = []\n",
    "for i in range(3):\n",
    "    handles.append([Line2D([0],[0],marker='o',color='r',label=refants[i*2],linewidth=0),\n",
    "          Line2D([0],[0],marker='o',color='b',label=refants[i*2+1],linewidth=0)])\n",
    "handles.append([Line2D([0],[0],marker='o',color='r',label=pairLoc[0]+' Pair Avg',linewidth=0),\n",
    "          Line2D([0],[0],marker='o',color='b',label=pairLoc[1]+' Pair Avg',linewidth=0),\n",
    "          Line2D([0],[0],marker='o',color='g',label=pairLoc[2]+' Pair Avg',linewidth=0)])\n",
    "            \n",
    "names = [pairLoc[0]+' Pair, ',pairLoc[1]+' Pair, ',pairLoc[2]+' Pair, ','Combined, ']\n",
    "for i in range(4):\n",
    "    ps.plotNonDescript(ax[i],title='x-Phase Average, '+names[i]+str(numObs)+'-Obs. Period,\\n'+\n",
    "                   timeRange[0]+':00 - '+timeRange[1]+':00, Mean-Based Normalization',ymax=ymax,\n",
    "                   ymin=ymin,titlesize=11,xlabel='Observation (not evenly spaced)',ylabel='x-Phase Average',\n",
    "                       xticks=xticks,xticklabels=timeSeries,yticks=True,handles=handles[i])\n",
    "\n",
    "plt.tight_layout()\n",
    "\n",
    "#plt.show()\n",
    "plt.savefig(directory+'/phaseplots/magPhase.png', bbox_inches='tight')\n",
    "plt.close()"
   ]
  },
  {
   "cell_type": "markdown",
   "metadata": {},
   "source": [
    "# delta w/ mean-based normalization"
   ]
  },
  {
   "cell_type": "markdown",
   "metadata": {},
   "source": [
    "### specific initializations"
   ]
  },
  {
   "cell_type": "code",
   "execution_count": 74,
   "metadata": {},
   "outputs": [],
   "source": [
    "deltaPhaseProbs = np.empty((np.shape(refants)[0],numObs-1),dtype='U25')\n",
    "deltaPhase = np.empty((np.shape(refants)[0],numObs-1),dtype='float')\n",
    "x = range(1,numObs)\n",
    "xticks = np.array(range(numObs+1),dtype='float')-0.5\n",
    "\n",
    "########## deltaPhase-specific pos data\n",
    "\n",
    "# Data extraction from offsetdata directory\n",
    "for ant in range(np.shape(refants)[0]):\n",
    "    arr = pd.read_csv(directory+'/offsetdata/'+refants[ant]+'.csv')\n",
    "    arr = arr.loc[:,'xPhaseAvg']\n",
    "\n",
    "    for obs in range(numObs-1):\n",
    "        # If there's a problem in the data, prep it for the next loop\n",
    "        if np.isnan(arr.iloc[obs+1]) or np.isnan(arr.iloc[obs]):\n",
    "            L = np.where(deltaPhaseProbs[ant,:] == \"\")[0][0]\n",
    "            deltaPhaseProbs[ant,L] = obs\n",
    "            deltaPhase[ant,obs] = np.nan\n",
    "        # Else, transfer the data\n",
    "        else: deltaPhase[ant,obs] = arr.iloc[obs+1]-arr.iloc[obs]\n",
    "\n",
    "# If there's a problem in the data, take the data from the previous observation (or the next, if the previous is\n",
    "# not available) and update deltaPhaseProbs, which will allow us to circle the problem areas in our plot.\n",
    "for ant in range(np.shape(refants)[0]):\n",
    "    if deltaPhaseProbs[ant,0] != \"\":\n",
    "        for prob in range(np.where(deltaPhaseProbs[ant,:] == \"\")[0][0]):\n",
    "            if int(deltaPhaseProbs[ant,prob]) == 0: deltaPhase[ant,int(deltaPhaseProbs[ant,prob])] = deltaPhase[ant,int(deltaPhaseProbs[ant,prob])+1]\n",
    "            else: deltaPhase[ant,int(deltaPhaseProbs[ant,prob])] = deltaPhase[ant,int(deltaPhaseProbs[ant,prob])-1]\n",
    "\n",
    "# Prepare time labels\n",
    "timeSeries = []\n",
    "temp = pd.read_csv(directory+'/offsetdata/'+refants[0]+'.csv')[['time']]\n",
    "for time in range(temp.shape[0]):\n",
    "    timeSeries.append(tc.UnixtoFormattedTime(temp.loc[time]))\n",
    "    \n",
    "timeSeries.append(\"\")"
   ]
  },
  {
   "cell_type": "markdown",
   "metadata": {},
   "source": [
    "### mean-based normalization"
   ]
  },
  {
   "cell_type": "code",
   "execution_count": 75,
   "metadata": {},
   "outputs": [],
   "source": [
    "for ant in range(np.shape(refants)[0]):\n",
    "    for coord in range(3):\n",
    "        offset = np.average(deltaPhase[ant,:])\n",
    "        deltaPhase[ant,:] = deltaPhase[ant,:]-offset"
   ]
  },
  {
   "cell_type": "markdown",
   "metadata": {},
   "source": [
    "### combined plot initializations"
   ]
  },
  {
   "cell_type": "code",
   "execution_count": 76,
   "metadata": {},
   "outputs": [],
   "source": [
    "deltaPhaseProbsAvg = np.empty((int(np.shape(refants)[0]/2),numObs-1),dtype='U25')\n",
    "deltaPhaseAvg = np.zeros((int(np.shape(refants)[0]/2),numObs-1),dtype='float')\n",
    "\n",
    "for ant in range(int(np.shape(refants)[0]/2)):\n",
    "    deltaPhaseAvg[ant,:] = (deltaPhase[ant*2,:] + deltaPhase[ant*2+1,:]) / 2\n",
    "        \n",
    "for ant in range(np.shape(refants)[0]):\n",
    "    pair = ant // 2\n",
    "    if deltaPhaseProbs[ant,0] != \"\":\n",
    "        for prob in range(np.where(deltaPhaseProbs[ant,:] == \"\")[0][0]):\n",
    "            L = np.where(deltaPhaseProbsAvg[pair,:] == \"\")[0][0]\n",
    "            deltaPhaseProbsAvg[pair,L] = deltaPhaseProbs[ant,prob]\n",
    "for pair in range(int(np.shape(refants)[0]/2)):\n",
    "    if deltaPhaseProbsAvg[pair,0] != \"\":\n",
    "        for prob in range(0):\n",
    "            if int(deltaPhaseProbsAvg[pair,prob]) == 0: deltaPhaseAvg[pair,int(deltaPhaseProbsAvg[pair,prob])] = deltaPhaseAvg[pair,int(deltaPhaseProbsAvg[pair,prob])+1]\n",
    "            else: deltaPhaseAvg[pair,int(deltaPhaseProbsAvg[pair,prob])] = deltaPhaseAvg[pair,int(deltaPhaseProbsAvg[pair,prob])-1]\n",
    "\n",
    "                \n",
    "for pair in range(int(np.shape(refants)[0]/2)):\n",
    "    for coord in range(3):\n",
    "        offset = np.average(deltaPhaseAvg[pair,:])\n",
    "        deltaPhaseAvg[pair,:] = deltaPhaseAvg[pair,:] - offset"
   ]
  },
  {
   "cell_type": "markdown",
   "metadata": {},
   "source": [
    "### extrema"
   ]
  },
  {
   "cell_type": "code",
   "execution_count": 77,
   "metadata": {},
   "outputs": [],
   "source": [
    "extrema = np.zeros((np.shape(refants)[0],2),dtype='float')\n",
    "for ant in range(np.shape(refants)[0]):\n",
    "    extrema[ant,0], extrema[ant,1] = np.max(deltaPhase[ant,:]), np.min(deltaPhase[ant,:])\n",
    "    \n",
    "temp = np.max([abs(np.max(extrema[:,0])), abs(np.min(extrema[:,1]))])\n",
    "ymax, ymin = ymax, ymin"
   ]
  },
  {
   "cell_type": "markdown",
   "metadata": {},
   "source": [
    "## plot"
   ]
  },
  {
   "cell_type": "code",
   "execution_count": 78,
   "metadata": {},
   "outputs": [],
   "source": [
    "fig, axes = plt.subplots(2,2,figsize=(10,10),sharey=True,sharex=True)\n",
    "\n",
    "ax = [axes[0,0],axes[0,1],axes[1,0],axes[1,1]]\n",
    "\n",
    "for i in range(3):\n",
    "    temp = pd.DataFrame(np.column_stack((x,deltaPhase[i*2,:])),columns=['x', 'y'])\n",
    "    sb.lineplot(ax=ax[i], x='x', y='y', data=temp, color='r')\n",
    "    temp = pd.DataFrame(np.column_stack((x,deltaPhase[i*2+1,:])),columns=['x', 'y'])\n",
    "    sb.lineplot(ax=ax[i], x='x', y='y', data=temp, color='b')\n",
    "    \n",
    "colors = ['r','b','g']\n",
    "for i in range(3):\n",
    "    temp = pd.DataFrame(np.column_stack((x,deltaPhaseAvg[i,:])),columns=['x', 'y'])\n",
    "    sb.lineplot(ax=ax[3], x='x', y='y', data=temp, color=colors[i])\n",
    "    \n",
    "for ant in range(len(refants)):\n",
    "    if deltaPhaseProbs[ant,0] != \"\":\n",
    "        for row in range(np.where(deltaPhaseProbs[ant,:] == \"\")[0][0]):\n",
    "            ec = colors[ant%2]\n",
    "            ax[ant//2].scatter(float(deltaPhaseProbs[ant,row])+1,float(deltaPhase[ant,int(deltaPhaseProbs[ant,row])]),s=500,c='none',edgecolor=ec,linewidth=2)\n",
    "            \n",
    "    if deltaPhaseProbsAvg[ant//2,0] != \"\":\n",
    "        for row in range(np.where(deltaPhaseProbsAvg[ant//2,:] == \"\")[0][0]):\n",
    "            ec = colors[ant//2]\n",
    "            ax[3].scatter(float(deltaPhaseProbsAvg[ant//2,row])+1,float(deltaPhaseAvg[ant//2,int(deltaPhaseProbsAvg[ant//2,row])]),s=500,c='none',edgecolor=ec,linewidth=2)\n",
    "\n",
    "handles = []\n",
    "for i in range(3):\n",
    "    handles.append([Line2D([0],[0],marker='o',color='r',label=refants[i*2],linewidth=0),\n",
    "          Line2D([0],[0],marker='o',color='b',label=refants[i*2+1],linewidth=0)])\n",
    "handles.append([Line2D([0],[0],marker='o',color='r',label=pairLoc[0]+' Pair Avg',linewidth=0),\n",
    "          Line2D([0],[0],marker='o',color='b',label=pairLoc[1]+' Pair Avg',linewidth=0),\n",
    "          Line2D([0],[0],marker='o',color='g',label=pairLoc[2]+' Pair Avg',linewidth=0)])\n",
    "            \n",
    "names = [pairLoc[0]+' Pair, ',pairLoc[1]+' Pair, ',pairLoc[2]+' Pair, ','Combined, ']\n",
    "for i in range(4):\n",
    "    ps.plotNonDescript(ax[i],title='x-Phase ΔAverage, '+names[i]+str(numObs)+'-Obs. Period,\\n'+\n",
    "                   timeRange[0]+':00 - '+timeRange[1]+':00, Mean-Based Normalization',ymax=ymax,\n",
    "                   ymin=ymin,titlesize=11,xlabel='Observation (not evenly spaced)',ylabel='x-Phase ΔAverage',\n",
    "                       xticks=xticks,xticklabels=timeSeries,yticks=True,handles=handles[i])\n",
    "\n",
    "plt.tight_layout()\n",
    "\n",
    "#plt.show()\n",
    "plt.savefig(directory+'/phaseplots/deltaPhase.png', bbox_inches='tight')\n",
    "plt.close()"
   ]
  },
  {
   "cell_type": "markdown",
   "metadata": {},
   "source": [
    "# mag (offset & weather) w/ mean-based normalization"
   ]
  },
  {
   "cell_type": "markdown",
   "metadata": {},
   "source": [
    "### specific initializations"
   ]
  },
  {
   "cell_type": "code",
   "execution_count": 79,
   "metadata": {},
   "outputs": [],
   "source": [
    "magWeaProbs = np.empty((np.shape(weaants)[0],numObs),dtype='U25')\n",
    "magWea = np.empty((np.shape(weaants)[0],numObs,6),dtype='float')\n",
    "x = range(1,numObs+1) # 1,numObs+1\n",
    "xticks = range(numObs+1)\n",
    "\n",
    "########## magnitude-specific wea data\n",
    "\n",
    "# Data extraction from weatherdata directory\n",
    "for ant in range(np.shape(weaants)[0]):\n",
    "    arr = pd.read_csv(directory+'/weatherdata/'+weaants[ant]+'.csv')\n",
    "    arr = arr.loc[:,'pressure':'windMax']\n",
    "    for obs in range(numObs):\n",
    "        # If there's a problem in the data, prep it for the next loop\n",
    "        if arr.iloc[obs].isnull().values.any():\n",
    "            L = np.where(magWeaProbs[ant,:] == \"\")[0][0]\n",
    "            magWeaProbs[ant,L] = obs\n",
    "            magWea[ant,obs,:] = np.nan\n",
    "        # Else, transfer the data\n",
    "        else: magWea[ant,obs,:] = arr.iloc[obs]\n",
    "            \n",
    "# If there's a problem in the data, take the data from the previous observation (or the next, if the previous is\n",
    "# not available) and update magProbs, which will allow us to circle the problem areas in our plot.\n",
    "for ant in range(np.shape(weaants)[0]):\n",
    "    if magWeaProbs[ant,0] != \"\":\n",
    "        for prob in range(np.where(magWeaProbs[ant,:] == \"\")[0][0]):\n",
    "            if int(magWeaProbs[ant,prob]) == 0: magWea[ant,int(magWeaProbs[ant,prob]),:] = magWea[ant,int(magWeaProbs[ant,prob])+1,:]\n",
    "            else: magWea[ant,int(magWeaProbs[ant,prob]),:] = magWea[ant,int(magWeaProbs[ant,prob])-1,:]\n",
    "                \n",
    "# Remove windDir and windMax\n",
    "temp = np.empty((np.shape(weaants)[0],numObs,4))\n",
    "temp[:,:,0] = magWea[:,:,0]\n",
    "temp[:,:,1] = magWea[:,:,1]\n",
    "temp[:,:,2] = magWea[:,:,2]\n",
    "temp[:,:,3] = magWea[:,:,4]\n",
    "magWea = temp"
   ]
  },
  {
   "cell_type": "markdown",
   "metadata": {},
   "source": [
    "### mean-based normalization"
   ]
  },
  {
   "cell_type": "code",
   "execution_count": 80,
   "metadata": {},
   "outputs": [],
   "source": [
    "for ant in range(np.shape(weaants)[0]):\n",
    "    for i in range(4):\n",
    "        offset = np.average(magWea[ant,:,i])\n",
    "        magWea[ant,:,i] = magWea[ant,:,i]-offset"
   ]
  },
  {
   "cell_type": "markdown",
   "metadata": {},
   "source": [
    "### mean-based scaling"
   ]
  },
  {
   "cell_type": "code",
   "execution_count": 81,
   "metadata": {
    "scrolled": true
   },
   "outputs": [],
   "source": [
    "posPoints = []\n",
    "negPoints = []\n",
    "for i in range(numObs):\n",
    "    if magPhaseAvg[0,i] > 0: posPoints.append(magPhaseAvg[0,i])     \n",
    "avg1 = np.average(np.array(posPoints,dtype='float'))\n",
    "\n",
    "if os.listdir(genDir)[0][:3] == \"uid\": uid = os.listdir(genDir)[0]\n",
    "else: uid = os.listdir(genDir)[1]\n",
    "\n",
    "counter = 1\n",
    "antMissing = True    \n",
    "while antMissing == True:\n",
    "    antMissing = False\n",
    "    try:\n",
    "        uid = os.listdir(genDir)[1+counter]\n",
    "        nearestWeatherStation = mc.nearestWeatherStation(genDir+uid+'/',[refants[0],refants[1]])\n",
    "    except:\n",
    "        antMissing = True\n",
    "        \n",
    "    if antMissing == False: nearestWeatherStation = mc.nearestWeatherStation(genDir+uid+'/',[refants[0],refants[1]])\n",
    "    counter += 1    \n",
    "    \n",
    "for ant in range(len(weaants)):\n",
    "    if nearestWeatherStation == weaants[ant]:\n",
    "        nearestWeatherStation = ant\n",
    "\n",
    "avg2 = np.empty((4),dtype='float')\n",
    "for i in range(4):\n",
    "    posPoints = []\n",
    "    negPoints = []\n",
    "    for j in range(numObs):\n",
    "        if magWea[nearestWeatherStation,j,i] > 0: posPoints.append(magWea[nearestWeatherStation,j,i])\n",
    "    avg2[i] = np.average(np.array(posPoints,dtype='float'))\n",
    "\n",
    "scaleFactor = avg1 / avg2\n",
    "\n",
    "for i in range(4): magWea[nearestWeatherStation,:,i] = magWea[nearestWeatherStation,:,i] * scaleFactor[i]"
   ]
  },
  {
   "cell_type": "markdown",
   "metadata": {},
   "source": [
    "### extrema"
   ]
  },
  {
   "cell_type": "code",
   "execution_count": 82,
   "metadata": {},
   "outputs": [],
   "source": [
    "extrema = np.zeros((np.shape(refants)[0],2),dtype='float')\n",
    "for ant in range(2):\n",
    "    extrema[ant,0], extrema[ant,1] = np.max(magPhase[ant,:]), np.min(magPhase[ant,:])\n",
    "    \n",
    "extremaWea = np.zeros((4,2),dtype='float')\n",
    "for i in range(4):\n",
    "    extremaWea[i,0], extremaWea[i,1] = np.max(magWea[nearestWeatherStation,:,i]), np.min(magWea[nearestWeatherStation,:,i])\n",
    "    \n",
    "allExtrema = [extrema[0,0], extrema[0,1], extrema[1,0], extrema[1,1]]\n",
    "for i in range(4):\n",
    "    allExtrema.append(extremaWea[i,0])\n",
    "    allExtrema.append(extremaWea[i,1])\n",
    "allExtrema = [abs(element) for element in allExtrema]\n",
    "    \n",
    "temp = np.max(allExtrema)\n",
    "ymax, ymin = ymax, ymin"
   ]
  },
  {
   "cell_type": "markdown",
   "metadata": {},
   "source": [
    "## plot"
   ]
  },
  {
   "cell_type": "code",
   "execution_count": 83,
   "metadata": {},
   "outputs": [],
   "source": [
    "fig, axes = plt.subplots(2,2,figsize=(10,10),sharey=True,sharex=True)\n",
    "\n",
    "ax = [axes[0,0],axes[0,1],axes[1,0],axes[1,1]]\n",
    "weaLabels = ['Pressure','Rel. Humidity','Temperature','WindSpeed']\n",
    "\n",
    "handles = []\n",
    "for i in range(4):\n",
    "    temp = pd.DataFrame(np.column_stack((x,magPhaseAvg[0,:])),columns=['x', 'y'])\n",
    "    sb.lineplot(ax=ax[i], x='x', y='y', data=temp, color='r')\n",
    "    \n",
    "    temp = pd.DataFrame(np.column_stack((x,magWea[nearestWeatherStation,:,i])),columns=['x', 'y'])\n",
    "    sb.lineplot(ax=ax[i], x='x', y='y', data=temp, color='b')\n",
    "    \n",
    "    handles.append([Line2D([0],[0],marker='o',color='r',label=pairLoc[0]+' Pair Avg',linewidth=0),\n",
    "          Line2D([0],[0],marker='o',color='b',label=weaLabels[i],linewidth=0)])\n",
    "    \n",
    "    if magPhaseProbsAvg[0,0] != \"\":\n",
    "        for row in range(np.where(magPhaseProbsAvg[0,:] == \"\")[0][0]):\n",
    "            ax[i].scatter(float(magPhaseProbsAvg[0,row])+1,float(magPhaseAvg[0,int(magPhaseProbsAvg[0,row])]),s=500,c='none',edgecolor='r',linewidth=2)\n",
    "            \n",
    "    if magWeaProbs[0,0] != \"\":\n",
    "        for row in range(np.where(magWeaProbs[0,:] == \"\")[0][0]):\n",
    "            ax[i].scatter(float(magWeaProbs[0,row])+1,float(magWea[0,int(magWeaProbs[0,row]),index]),s=500,c='none',edgecolor='b',linewidth=2)\n",
    "\n",
    "for i in range(4):\n",
    "    ps.plotNonDescript(ax[i],title=weaLabels[i]+' vs. x-Phase Average, '+str(numObs)+'-Obs. Period,\\n Mean-Based Normalization and Scaling',ymax=ymax,\n",
    "                   ymin=ymin,titlesize=11,xlabel='Observation (not evenly spaced)',ylabel='x-Phase Average and Weather',\n",
    "                       xticks=xticks,xticklabels=timeSeries,yticks=True,handles=handles[i])\n",
    "\n",
    "plt.tight_layout()\n",
    "\n",
    "#plt.show()\n",
    "plt.savefig(directory+'/phaseplots/magPhaseWea.png', bbox_inches='tight')\n",
    "plt.close()"
   ]
  },
  {
   "cell_type": "markdown",
   "metadata": {},
   "source": [
    "# delta (offset & weather) w/ mean-based normalization"
   ]
  },
  {
   "cell_type": "markdown",
   "metadata": {},
   "source": [
    "### specific initializations"
   ]
  },
  {
   "cell_type": "code",
   "execution_count": 84,
   "metadata": {},
   "outputs": [],
   "source": [
    "deltaWeaProbs = np.empty((np.shape(weaants)[0],numObs-1),dtype='U25')\n",
    "deltaWea = np.empty((np.shape(weaants)[0],numObs-1,6),dtype='float')\n",
    "x = range(1,numObs)\n",
    "xticks = np.array(range(numObs+1),dtype='float')-0.5\n",
    "\n",
    "########## delta-specific wea data\n",
    "\n",
    "# Data extraction from weatherdata directory\n",
    "for ant in range(np.shape(weaants)[0]):\n",
    "    arr = pd.read_csv(directory+'/weatherdata/'+weaants[ant]+'.csv')\n",
    "    arr = arr.loc[:,'pressure':'windMax']\n",
    "    for obs in range(numObs-1):\n",
    "        # If there's a problem in the data, prep it for the next loop\n",
    "        if arr.iloc[obs+1].isnull().values.any() or arr.iloc[obs].isnull().values.any():\n",
    "            L = np.where(deltaWeaProbs[ant,:] == \"\")[0][0]\n",
    "            deltaWeaProbs[ant,L] = obs\n",
    "            deltaWea[ant,obs,:] = np.nan\n",
    "        # Else, transfer the data\n",
    "        else: deltaWea[ant,obs,:] = arr.iloc[obs+1]-arr.iloc[obs]\n",
    "            \n",
    "# If there's a problem in the data, take the data from the previous observation (or the next, if the previous is\n",
    "# not available) and update magProbs, which will allow us to circle the problem areas in our plot.\n",
    "for ant in range(np.shape(weaants)[0]):\n",
    "    if deltaWeaProbs[ant,0] != \"\":\n",
    "        for prob in range(np.where(deltaWeaProbs[ant,:] == \"\")[0][0]):\n",
    "            if int(deltaWeaProbs[ant,prob]) == 0: deltaWea[ant,int(deltaWeaProbs[ant,prob]),:] = deltaWea[ant,int(deltaWeaProbs[ant,prob])+1,:]\n",
    "            else: deltaWea[ant,int(deltaWeaProbs[ant,prob]),:] = deltaWea[ant,int(deltaWeaProbs[ant,prob])-1,:]\n",
    "                \n",
    "# Remove windDir and windMax\n",
    "temp = np.empty((np.shape(weaants)[0],numObs-1,4))\n",
    "temp[:,:,0] = deltaWea[:,:,0]\n",
    "temp[:,:,1] = deltaWea[:,:,1]\n",
    "temp[:,:,2] = deltaWea[:,:,2]\n",
    "temp[:,:,3] = deltaWea[:,:,4]\n",
    "deltaWea = temp"
   ]
  },
  {
   "cell_type": "markdown",
   "metadata": {},
   "source": [
    "### mean-based normalization"
   ]
  },
  {
   "cell_type": "code",
   "execution_count": 85,
   "metadata": {},
   "outputs": [],
   "source": [
    "for ant in range(np.shape(weaants)[0]):\n",
    "    for i in range(4):\n",
    "        offset = np.average(deltaWea[ant,:,i])\n",
    "        deltaWea[ant,:,i] = deltaWea[ant,:,i]-offset"
   ]
  },
  {
   "cell_type": "markdown",
   "metadata": {},
   "source": [
    "### mean-based scaling"
   ]
  },
  {
   "cell_type": "code",
   "execution_count": 86,
   "metadata": {},
   "outputs": [],
   "source": [
    "posPoints = []\n",
    "negPoints = []\n",
    "for i in range(numObs-1):\n",
    "    if deltaPhaseAvg[0,i] > 0: posPoints.append(deltaPhaseAvg[0,i])     \n",
    "avg1 = np.average(np.array(posPoints,dtype='float'))\n",
    "\n",
    "if os.listdir(genDir)[0][:3] == \"uid\": uid = os.listdir(genDir)[0]\n",
    "else: uid = os.listdir(genDir)[1]\n",
    "\n",
    "counter = 1\n",
    "antMissing = True    \n",
    "while antMissing == True:\n",
    "    antMissing = False\n",
    "    try:\n",
    "        uid = os.listdir(genDir)[1+counter]\n",
    "        nearestWeatherStation = mc.nearestWeatherStation(genDir+uid+'/',[refants[0],refants[1]])\n",
    "    except:\n",
    "        antMissing = True\n",
    "        \n",
    "    if antMissing == False: nearestWeatherStation = mc.nearestWeatherStation(genDir+uid+'/',[refants[0],refants[1]])\n",
    "    counter += 1\n",
    "\n",
    "for ant in range(len(weaants)):\n",
    "    if nearestWeatherStation == weaants[ant]:\n",
    "        nearestWeatherStation = ant\n",
    "\n",
    "avg2 = np.empty((4),dtype='float')\n",
    "for i in range(4):\n",
    "    posPoints = []\n",
    "    negPoints = []\n",
    "    for j in range(numObs-1):\n",
    "        if deltaWea[nearestWeatherStation,j,i] > 0: posPoints.append(deltaWea[nearestWeatherStation,j,i])\n",
    "    avg2[i] = np.average(np.array(posPoints,dtype='float'))\n",
    "\n",
    "scaleFactor = avg1 / avg2\n",
    "\n",
    "for i in range(4): deltaWea[nearestWeatherStation,:,i] = deltaWea[nearestWeatherStation,:,i] * scaleFactor[i]"
   ]
  },
  {
   "cell_type": "markdown",
   "metadata": {},
   "source": [
    "### extrema"
   ]
  },
  {
   "cell_type": "code",
   "execution_count": 87,
   "metadata": {},
   "outputs": [],
   "source": [
    "extrema = np.zeros((np.shape(refants)[0],2),dtype='float')\n",
    "for ant in range(2):\n",
    "    extrema[ant,0], extrema[ant,1] = np.max(deltaPhase[ant,:]), np.min(deltaPhase[ant,:])\n",
    "    \n",
    "extremaWea = np.zeros((4,2),dtype='float')\n",
    "for i in range(4):\n",
    "    extremaWea[i,0], extremaWea[i,1] = np.max(deltaWea[nearestWeatherStation,:,i]), np.min(deltaWea[nearestWeatherStation,:,i])\n",
    "    \n",
    "allExtrema = [extrema[0,0], extrema[0,1], extrema[1,0], extrema[1,1]]\n",
    "for i in range(4):\n",
    "    allExtrema.append(extremaWea[i,0])\n",
    "    allExtrema.append(extremaWea[i,1])\n",
    "allExtrema = [abs(element) for element in allExtrema]\n",
    "    \n",
    "temp = np.max(allExtrema)\n",
    "ymax, ymin = ymax, ymin"
   ]
  },
  {
   "cell_type": "markdown",
   "metadata": {},
   "source": [
    "## plot"
   ]
  },
  {
   "cell_type": "code",
   "execution_count": 88,
   "metadata": {},
   "outputs": [
    {
     "name": "stdout",
     "output_type": "stream",
     "text": [
      "8_9_2021 (evening)\n"
     ]
    }
   ],
   "source": [
    "fig, axes = plt.subplots(2,2,figsize=(10,10),sharey=True,sharex=True)\n",
    "\n",
    "ax = [axes[0,0],axes[0,1],axes[1,0],axes[1,1]]\n",
    "weaLabels = ['Pressure','Rel. Humidity','Temperature','WindSpeed']\n",
    "\n",
    "handles = []\n",
    "for i in range(4):\n",
    "    temp = pd.DataFrame(np.column_stack((x,deltaPhaseAvg[0,:])),columns=['x', 'y'])\n",
    "    sb.lineplot(ax=ax[i], x='x', y='y', data=temp, color='r')\n",
    "    \n",
    "    temp = pd.DataFrame(np.column_stack((x,deltaWea[nearestWeatherStation,:,i])),columns=['x', 'y'])\n",
    "    sb.lineplot(ax=ax[i], x='x', y='y', data=temp, color='b')\n",
    "    \n",
    "    handles.append([Line2D([0],[0],marker='o',color='r',label=pairLoc[0]+' Pair Avg',linewidth=0),\n",
    "          Line2D([0],[0],marker='o',color='b',label=weaLabels[i],linewidth=0)])\n",
    "    \n",
    "    if deltaPhaseProbsAvg[0,0] != \"\":\n",
    "        for row in range(np.where(deltaPhaseProbsAvg[0,:] == \"\")[0][0]):\n",
    "            ax[i].scatter(float(deltaPhaseProbsAvg[0,row])+1,float(deltaPhaseAvg[0,int(deltaPhaseProbsAvg[0,row])]),s=500,c='none',edgecolor='r',linewidth=2)\n",
    "\n",
    "    if deltaWeaProbs[0,0] != \"\":\n",
    "        for row in range(np.where(deltaWeaProbs[0,:] == \"\")[0][0]):\n",
    "            ax[i].scatter(float(deltaWeaProbs[0,row])+1,float(deltaWea[0,int(deltaWeaProbs[0,row]),index]),s=500,c='none',edgecolor='b',linewidth=2)\n",
    "            \n",
    "for i in range(4):\n",
    "    ps.plotNonDescript(ax[i],title='Δ'+weaLabels[i]+' vs. x-Phase ΔAverage, '+str(numObs)+'-Obs. Period,\\n Mean-Based Normalization and Scaling',ymax=ymax,\n",
    "                   ymin=ymin,titlesize=11,xlabel='Observation (not evenly spaced)',ylabel='x-Phase ΔAverage and ΔWeather',\n",
    "                       xticks=xticks,xticklabels=timeSeries,yticks=True,handles=handles[i])\n",
    "\n",
    "plt.tight_layout()\n",
    "\n",
    "#plt.show()\n",
    "plt.savefig(directory+'/phaseplots/deltaPhaseWea.png', bbox_inches='tight')\n",
    "plt.close()\n",
    "\n",
    "print(date)"
   ]
  },
  {
   "cell_type": "code",
   "execution_count": null,
   "metadata": {},
   "outputs": [],
   "source": []
  }
 ],
 "metadata": {
  "kernelspec": {
   "display_name": "Python 3",
   "language": "python",
   "name": "python3"
  },
  "language_info": {
   "codemirror_mode": {
    "name": "ipython",
    "version": 3
   },
   "file_extension": ".py",
   "mimetype": "text/x-python",
   "name": "python",
   "nbconvert_exporter": "python",
   "pygments_lexer": "ipython3",
   "version": "3.8.5"
  }
 },
 "nbformat": 4,
 "nbformat_minor": 4
}
