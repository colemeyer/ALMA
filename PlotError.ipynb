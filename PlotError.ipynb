{
 "cells": [
  {
   "cell_type": "code",
   "execution_count": 13,
   "metadata": {},
   "outputs": [],
   "source": [
    "import numpy as np\n",
    "import pandas as pd\n",
    "import seaborn as sb\n",
    "from packages import timeconvert as tc\n",
    "from packages import plotstyle as ps\n",
    "import matplotlib.pyplot as plt\n",
    "from matplotlib.lines import Line2D\n",
    "sb.set_theme(style=\"white\",font=\"serif\")\n",
    "\n",
    "fig, ax = plt.subplots(figsize=(5,5))\n",
    "labels = ['early morning','late morning','daytime','evening']\n",
    "colors = ['r','g','b','m']\n",
    "\n",
    "handles=[]\n",
    "for i in range(4):\n",
    "    arr = pd.read_csv('/Users/colemeyer/Documents/ALMA Internship/Observational Data/8_9_2021 ('+labels[i]+')/offsetdata/DA59.csv')\n",
    "    time = arr.loc[:,'time'].to_list()\n",
    "    time = [tc.UnixtoFormattedTime(int(ele)) for ele in time]\n",
    "    x = []\n",
    "    for ele in time:\n",
    "        if ele[1] == \"7\":\n",
    "            x.append(int(ele[3:5]))\n",
    "        else: x.append(int(ele[3:5])+31)\n",
    "    temp = pd.DataFrame(np.column_stack((x,arr.loc[:,'poserr()Z'])),columns=['x', 'err'])\n",
    "    sb.lineplot(ax=ax, x='x', y='err', data=temp, color=colors[i])\n",
    "    \n",
    "    handles.append(Line2D([0],[0],marker='o',color=colors[i],label=labels[i],linewidth=0))\n",
    "    \n",
    "ps.plotNonDescript(ax,title='Error on Position Offset Across TOD (8_9_2021)',ymax=0.0014,ymin=0,titlesize=11,xlabel='Day of Observation (constant scale)',\n",
    "                   ylabel='Error on z-Position Offset (m)',xticks=np.arange(41),xticklabels=np.arange(41),yticks=True,handles=handles)\n",
    "ax.set_xticklabels([])\n",
    "\n",
    "#plt.show()\n",
    "plt.savefig('/Users/colemeyer/Documents/ALMA Internship/Observational Data/TODerrors.png', bbox_inches='tight')\n",
    "plt.close()"
   ]
  },
  {
   "cell_type": "code",
   "execution_count": null,
   "metadata": {},
   "outputs": [],
   "source": []
  }
 ],
 "metadata": {
  "kernelspec": {
   "display_name": "Python 3",
   "language": "python",
   "name": "python3"
  },
  "language_info": {
   "codemirror_mode": {
    "name": "ipython",
    "version": 3
   },
   "file_extension": ".py",
   "mimetype": "text/x-python",
   "name": "python",
   "nbconvert_exporter": "python",
   "pygments_lexer": "ipython3",
   "version": "3.8.5"
  }
 },
 "nbformat": 4,
 "nbformat_minor": 4
}
