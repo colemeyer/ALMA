{
 "cells": [
  {
   "cell_type": "markdown",
   "metadata": {},
   "source": [
    "### functionality"
   ]
  },
  {
   "cell_type": "raw",
   "metadata": {},
   "source": [
    "Purpose: transfers in ASDMs whose observations began within specified timeframe from \"ASDM Archive\" into new \"Observational Data\" subdirectory.\n",
    "\n",
    "Approach: creates new \"Observational Data\" subdirectory. cycles through all ASDMs in \"ASDM Archive\", opens ASDM.xml within each ASDM to check observation's start time, and transfers ASDM into new \"Observational Data\" subdirectory if observation's start time is within timeRange.\n",
    "\n",
    "Limitations: to prevent line plot branching as a result of multiple observations per day in later scripts, TransferASDM must ensure that only one observation per day is transferred to \"Observational Data\" subdirectory. thus, some data is eliminated in a nonstrategic way."
   ]
  },
  {
   "cell_type": "markdown",
   "metadata": {},
   "source": [
    "### required directory structure"
   ]
  },
  {
   "cell_type": "raw",
   "metadata": {},
   "source": [
    "-> \"Offset Drift\" directory\n",
    "    -> \"ASDM Archive\" directory\n",
    "        -> all uid___* directories\n",
    "            -> at least \"ASDM.xml\"\n",
    "    -> \"Observational Data\" directory\n",
    "    -> \"TransferASDM.ipynb\"/\"TransferASDM.py\""
   ]
  },
  {
   "cell_type": "markdown",
   "metadata": {},
   "source": [
    "### input initialization"
   ]
  },
  {
   "cell_type": "code",
   "execution_count": 1,
   "metadata": {},
   "outputs": [],
   "source": [
    "subdirName = 'M_DD_YYYY' # Name of \"Observational Data\" subdirectory to be created, usually of the format M_DD_YYYY\n",
    "\n",
    "timeRange = [\"HH\",\"HH\"] # Start and end hour in 24-hour time: [\"HH\",\"HH\"]. If not needed, set to [\"00\",\"24\"]\n",
    "\n",
    "gendir = '/.../Offset Drift/' # \"Offset Drift\" location, assuming specified structure"
   ]
  },
  {
   "cell_type": "markdown",
   "metadata": {},
   "source": [
    "***"
   ]
  },
  {
   "cell_type": "markdown",
   "metadata": {},
   "source": [
    "### imports"
   ]
  },
  {
   "cell_type": "code",
   "execution_count": 69,
   "metadata": {},
   "outputs": [],
   "source": [
    "import os\n",
    "import re\n",
    "import shutil"
   ]
  },
  {
   "cell_type": "markdown",
   "metadata": {},
   "source": [
    "# Create \"Observational Data\" subdirectory and transfer in ASDMs whose observations began within timeRange"
   ]
  },
  {
   "cell_type": "code",
   "execution_count": 70,
   "metadata": {},
   "outputs": [],
   "source": [
    "# Create new \"Observational Data\" subdirectory with name subdirName\n",
    "if  os.path.isdir(gendir+'Observational Data/'+subdirName):\n",
    "    shutil.rmtree(gendir+'Observational Data/'+subdirName)\n",
    "    os.mkdir(gendir+'Observational Data/'+subdirName)\n",
    "    os.mkdir(gendir+'Observational Data/'+subdirName+'/ASDMs')\n",
    "else:\n",
    "    os.mkdir(gendir+'Observational Data/'+subdirName)\n",
    "    os.mkdir(gendir+'Observational Data/'+subdirName+'/ASDMs')\n",
    "\n",
    "# For each ASDM in \"ASDM Archive\", check time of observation using ASDM.xml and transfer to new \"Observational Data\" \n",
    "# subdirectory if within timeRange\n",
    "datesList = []\n",
    "for ASDM in os.listdir(gendir+\"ASDM Archive/\"):\n",
    "    if \"uid\" in ASDM:\n",
    "        asdmdir = gendir+'ASDM Archive/'+ASDM\n",
    "        asdmXML = open(asdmdir+'/ASDM.xml')\n",
    "        \n",
    "        # If hour is within specified timeRange, copy from \"Archive\" into new \"Observational Data\" directory\n",
    "        for i in range(3): asdmXML.readline()\n",
    "        fullTimestamp = re.sub(r\"<.*?>\", \"\", asdmXML.readline()).strip()\n",
    "        date = fullTimestamp[5:10]\n",
    "        hr = int(fullTimestamp[11:13])\n",
    "        if int(timeRange[0]) <= hr < int(timeRange[1]):\n",
    "            if date not in datesList: # Ensures that only one observation per day is transferred\n",
    "                shutil.copytree(asdmdir, gendir+'Observational Data/'+subdirName+'/ASDMs/'+ASDM)\n",
    "                datesList.append(date)"
   ]
  },
  {
   "cell_type": "code",
   "execution_count": null,
   "metadata": {},
   "outputs": [],
   "source": []
  }
 ],
 "metadata": {
  "kernelspec": {
   "display_name": "Python 3",
   "language": "python",
   "name": "python3"
  },
  "language_info": {
   "codemirror_mode": {
    "name": "ipython",
    "version": 3
   },
   "file_extension": ".py",
   "mimetype": "text/x-python",
   "name": "python",
   "nbconvert_exporter": "python",
   "pygments_lexer": "ipython3",
   "version": "3.8.5"
  }
 },
 "nbformat": 4,
 "nbformat_minor": 4
}
